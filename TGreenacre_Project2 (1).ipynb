{
  "nbformat": 4,
  "nbformat_minor": 0,
  "metadata": {
    "colab": {
      "name": "TGreenacre_Project2.ipynb",
      "provenance": []
    },
    "kernelspec": {
      "name": "python3",
      "display_name": "Python 3"
    },
    "language_info": {
      "name": "python"
    }
  },
  "cells": [
    {
      "cell_type": "markdown",
      "source": [
        "#Project 2\n",
        "\n",
        "**Name:** Thomas Greenacre\n",
        "\n",
        "**Date:** 7/6/2022"
      ],
      "metadata": {
        "id": "mx0husdlNOpk"
      }
    },
    {
      "cell_type": "code",
      "source": [
        "#import libraries\n",
        "import pandas as pd\n",
        "import numpy as np\n",
        "import seaborn as sns"
      ],
      "metadata": {
        "id": "bi_MXS-5NyYL"
      },
      "execution_count": 866,
      "outputs": []
    },
    {
      "cell_type": "code",
      "execution_count": 867,
      "metadata": {
        "colab": {
          "base_uri": "https://localhost:8080/"
        },
        "id": "XWbRjr_FM_MO",
        "outputId": "0bd82c91-c47c-40a6-ba98-4a7bd0861a12"
      },
      "outputs": [
        {
          "output_type": "stream",
          "name": "stdout",
          "text": [
            "Drive already mounted at /content/drive; to attempt to forcibly remount, call drive.mount(\"/content/drive\", force_remount=True).\n"
          ]
        }
      ],
      "source": [
        "#mount google drive\n",
        "from google.colab import drive\n",
        "drive.mount('/content/drive')"
      ]
    },
    {
      "cell_type": "markdown",
      "source": [
        "## Part 1"
      ],
      "metadata": {
        "id": "77FpjxUAQILT"
      }
    },
    {
      "cell_type": "markdown",
      "source": [
        "First Choice: Dataset 1"
      ],
      "metadata": {
        "id": "BX9dEHaiNsD5"
      }
    },
    {
      "cell_type": "code",
      "source": [
        "# import dataset 1 and assign to dataframe, show first 5 rows\n",
        "filename = '/content/drive/MyDrive/Coding Dojo/Week 7/Project 2 - Part 1/car_price_prediction[1].csv'\n",
        "df_1 = pd.read_csv(filename)\n",
        "df_1.head()"
      ],
      "metadata": {
        "colab": {
          "base_uri": "https://localhost:8080/",
          "height": 0
        },
        "id": "S_K09KC_NHsZ",
        "outputId": "8019732f-80f6-4a0f-b4db-fbfea8fcdaab"
      },
      "execution_count": 868,
      "outputs": [
        {
          "output_type": "execute_result",
          "data": {
            "text/plain": [
              "         ID  Price  Levy Manufacturer    Model  Prod. year   Category  \\\n",
              "0  45654403  13328  1399        LEXUS   RX 450        2010       Jeep   \n",
              "1  44731507  16621  1018    CHEVROLET  Equinox        2011       Jeep   \n",
              "2  45774419   8467     -        HONDA      FIT        2006  Hatchback   \n",
              "3  45769185   3607   862         FORD   Escape        2011       Jeep   \n",
              "4  45809263  11726   446        HONDA      FIT        2014  Hatchback   \n",
              "\n",
              "  Leather interior Fuel type Engine volume    Mileage  Cylinders  \\\n",
              "0              Yes    Hybrid           3.5  186005 km        6.0   \n",
              "1               No    Petrol             3  192000 km        6.0   \n",
              "2               No    Petrol           1.3  200000 km        4.0   \n",
              "3              Yes    Hybrid           2.5  168966 km        4.0   \n",
              "4              Yes    Petrol           1.3   91901 km        4.0   \n",
              "\n",
              "  Gear box type Drive wheels   Doors             Wheel   Color  Airbags  \n",
              "0     Automatic          4x4  04-May        Left wheel  Silver       12  \n",
              "1     Tiptronic          4x4  04-May        Left wheel   Black        8  \n",
              "2      Variator        Front  04-May  Right-hand drive   Black        2  \n",
              "3     Automatic          4x4  04-May        Left wheel   White        0  \n",
              "4     Automatic        Front  04-May        Left wheel  Silver        4  "
            ],
            "text/html": [
              "\n",
              "  <div id=\"df-91783c02-fa1b-4518-a7ef-3b2c06bd349f\">\n",
              "    <div class=\"colab-df-container\">\n",
              "      <div>\n",
              "<style scoped>\n",
              "    .dataframe tbody tr th:only-of-type {\n",
              "        vertical-align: middle;\n",
              "    }\n",
              "\n",
              "    .dataframe tbody tr th {\n",
              "        vertical-align: top;\n",
              "    }\n",
              "\n",
              "    .dataframe thead th {\n",
              "        text-align: right;\n",
              "    }\n",
              "</style>\n",
              "<table border=\"1\" class=\"dataframe\">\n",
              "  <thead>\n",
              "    <tr style=\"text-align: right;\">\n",
              "      <th></th>\n",
              "      <th>ID</th>\n",
              "      <th>Price</th>\n",
              "      <th>Levy</th>\n",
              "      <th>Manufacturer</th>\n",
              "      <th>Model</th>\n",
              "      <th>Prod. year</th>\n",
              "      <th>Category</th>\n",
              "      <th>Leather interior</th>\n",
              "      <th>Fuel type</th>\n",
              "      <th>Engine volume</th>\n",
              "      <th>Mileage</th>\n",
              "      <th>Cylinders</th>\n",
              "      <th>Gear box type</th>\n",
              "      <th>Drive wheels</th>\n",
              "      <th>Doors</th>\n",
              "      <th>Wheel</th>\n",
              "      <th>Color</th>\n",
              "      <th>Airbags</th>\n",
              "    </tr>\n",
              "  </thead>\n",
              "  <tbody>\n",
              "    <tr>\n",
              "      <th>0</th>\n",
              "      <td>45654403</td>\n",
              "      <td>13328</td>\n",
              "      <td>1399</td>\n",
              "      <td>LEXUS</td>\n",
              "      <td>RX 450</td>\n",
              "      <td>2010</td>\n",
              "      <td>Jeep</td>\n",
              "      <td>Yes</td>\n",
              "      <td>Hybrid</td>\n",
              "      <td>3.5</td>\n",
              "      <td>186005 km</td>\n",
              "      <td>6.0</td>\n",
              "      <td>Automatic</td>\n",
              "      <td>4x4</td>\n",
              "      <td>04-May</td>\n",
              "      <td>Left wheel</td>\n",
              "      <td>Silver</td>\n",
              "      <td>12</td>\n",
              "    </tr>\n",
              "    <tr>\n",
              "      <th>1</th>\n",
              "      <td>44731507</td>\n",
              "      <td>16621</td>\n",
              "      <td>1018</td>\n",
              "      <td>CHEVROLET</td>\n",
              "      <td>Equinox</td>\n",
              "      <td>2011</td>\n",
              "      <td>Jeep</td>\n",
              "      <td>No</td>\n",
              "      <td>Petrol</td>\n",
              "      <td>3</td>\n",
              "      <td>192000 km</td>\n",
              "      <td>6.0</td>\n",
              "      <td>Tiptronic</td>\n",
              "      <td>4x4</td>\n",
              "      <td>04-May</td>\n",
              "      <td>Left wheel</td>\n",
              "      <td>Black</td>\n",
              "      <td>8</td>\n",
              "    </tr>\n",
              "    <tr>\n",
              "      <th>2</th>\n",
              "      <td>45774419</td>\n",
              "      <td>8467</td>\n",
              "      <td>-</td>\n",
              "      <td>HONDA</td>\n",
              "      <td>FIT</td>\n",
              "      <td>2006</td>\n",
              "      <td>Hatchback</td>\n",
              "      <td>No</td>\n",
              "      <td>Petrol</td>\n",
              "      <td>1.3</td>\n",
              "      <td>200000 km</td>\n",
              "      <td>4.0</td>\n",
              "      <td>Variator</td>\n",
              "      <td>Front</td>\n",
              "      <td>04-May</td>\n",
              "      <td>Right-hand drive</td>\n",
              "      <td>Black</td>\n",
              "      <td>2</td>\n",
              "    </tr>\n",
              "    <tr>\n",
              "      <th>3</th>\n",
              "      <td>45769185</td>\n",
              "      <td>3607</td>\n",
              "      <td>862</td>\n",
              "      <td>FORD</td>\n",
              "      <td>Escape</td>\n",
              "      <td>2011</td>\n",
              "      <td>Jeep</td>\n",
              "      <td>Yes</td>\n",
              "      <td>Hybrid</td>\n",
              "      <td>2.5</td>\n",
              "      <td>168966 km</td>\n",
              "      <td>4.0</td>\n",
              "      <td>Automatic</td>\n",
              "      <td>4x4</td>\n",
              "      <td>04-May</td>\n",
              "      <td>Left wheel</td>\n",
              "      <td>White</td>\n",
              "      <td>0</td>\n",
              "    </tr>\n",
              "    <tr>\n",
              "      <th>4</th>\n",
              "      <td>45809263</td>\n",
              "      <td>11726</td>\n",
              "      <td>446</td>\n",
              "      <td>HONDA</td>\n",
              "      <td>FIT</td>\n",
              "      <td>2014</td>\n",
              "      <td>Hatchback</td>\n",
              "      <td>Yes</td>\n",
              "      <td>Petrol</td>\n",
              "      <td>1.3</td>\n",
              "      <td>91901 km</td>\n",
              "      <td>4.0</td>\n",
              "      <td>Automatic</td>\n",
              "      <td>Front</td>\n",
              "      <td>04-May</td>\n",
              "      <td>Left wheel</td>\n",
              "      <td>Silver</td>\n",
              "      <td>4</td>\n",
              "    </tr>\n",
              "  </tbody>\n",
              "</table>\n",
              "</div>\n",
              "      <button class=\"colab-df-convert\" onclick=\"convertToInteractive('df-91783c02-fa1b-4518-a7ef-3b2c06bd349f')\"\n",
              "              title=\"Convert this dataframe to an interactive table.\"\n",
              "              style=\"display:none;\">\n",
              "        \n",
              "  <svg xmlns=\"http://www.w3.org/2000/svg\" height=\"24px\"viewBox=\"0 0 24 24\"\n",
              "       width=\"24px\">\n",
              "    <path d=\"M0 0h24v24H0V0z\" fill=\"none\"/>\n",
              "    <path d=\"M18.56 5.44l.94 2.06.94-2.06 2.06-.94-2.06-.94-.94-2.06-.94 2.06-2.06.94zm-11 1L8.5 8.5l.94-2.06 2.06-.94-2.06-.94L8.5 2.5l-.94 2.06-2.06.94zm10 10l.94 2.06.94-2.06 2.06-.94-2.06-.94-.94-2.06-.94 2.06-2.06.94z\"/><path d=\"M17.41 7.96l-1.37-1.37c-.4-.4-.92-.59-1.43-.59-.52 0-1.04.2-1.43.59L10.3 9.45l-7.72 7.72c-.78.78-.78 2.05 0 2.83L4 21.41c.39.39.9.59 1.41.59.51 0 1.02-.2 1.41-.59l7.78-7.78 2.81-2.81c.8-.78.8-2.07 0-2.86zM5.41 20L4 18.59l7.72-7.72 1.47 1.35L5.41 20z\"/>\n",
              "  </svg>\n",
              "      </button>\n",
              "      \n",
              "  <style>\n",
              "    .colab-df-container {\n",
              "      display:flex;\n",
              "      flex-wrap:wrap;\n",
              "      gap: 12px;\n",
              "    }\n",
              "\n",
              "    .colab-df-convert {\n",
              "      background-color: #E8F0FE;\n",
              "      border: none;\n",
              "      border-radius: 50%;\n",
              "      cursor: pointer;\n",
              "      display: none;\n",
              "      fill: #1967D2;\n",
              "      height: 32px;\n",
              "      padding: 0 0 0 0;\n",
              "      width: 32px;\n",
              "    }\n",
              "\n",
              "    .colab-df-convert:hover {\n",
              "      background-color: #E2EBFA;\n",
              "      box-shadow: 0px 1px 2px rgba(60, 64, 67, 0.3), 0px 1px 3px 1px rgba(60, 64, 67, 0.15);\n",
              "      fill: #174EA6;\n",
              "    }\n",
              "\n",
              "    [theme=dark] .colab-df-convert {\n",
              "      background-color: #3B4455;\n",
              "      fill: #D2E3FC;\n",
              "    }\n",
              "\n",
              "    [theme=dark] .colab-df-convert:hover {\n",
              "      background-color: #434B5C;\n",
              "      box-shadow: 0px 1px 3px 1px rgba(0, 0, 0, 0.15);\n",
              "      filter: drop-shadow(0px 1px 2px rgba(0, 0, 0, 0.3));\n",
              "      fill: #FFFFFF;\n",
              "    }\n",
              "  </style>\n",
              "\n",
              "      <script>\n",
              "        const buttonEl =\n",
              "          document.querySelector('#df-91783c02-fa1b-4518-a7ef-3b2c06bd349f button.colab-df-convert');\n",
              "        buttonEl.style.display =\n",
              "          google.colab.kernel.accessAllowed ? 'block' : 'none';\n",
              "\n",
              "        async function convertToInteractive(key) {\n",
              "          const element = document.querySelector('#df-91783c02-fa1b-4518-a7ef-3b2c06bd349f');\n",
              "          const dataTable =\n",
              "            await google.colab.kernel.invokeFunction('convertToInteractive',\n",
              "                                                     [key], {});\n",
              "          if (!dataTable) return;\n",
              "\n",
              "          const docLinkHtml = 'Like what you see? Visit the ' +\n",
              "            '<a target=\"_blank\" href=https://colab.research.google.com/notebooks/data_table.ipynb>data table notebook</a>'\n",
              "            + ' to learn more about interactive tables.';\n",
              "          element.innerHTML = '';\n",
              "          dataTable['output_type'] = 'display_data';\n",
              "          await google.colab.output.renderOutput(dataTable, element);\n",
              "          const docLink = document.createElement('div');\n",
              "          docLink.innerHTML = docLinkHtml;\n",
              "          element.appendChild(docLink);\n",
              "        }\n",
              "      </script>\n",
              "    </div>\n",
              "  </div>\n",
              "  "
            ]
          },
          "metadata": {},
          "execution_count": 868
        }
      ]
    },
    {
      "cell_type": "code",
      "source": [
        "#determine # of rows and features (columns)\n",
        "np.shape(df_1)"
      ],
      "metadata": {
        "colab": {
          "base_uri": "https://localhost:8080/"
        },
        "id": "gly4e6DEPp7e",
        "outputId": "23838076-e9ca-42de-9ef0-9e39651914f7"
      },
      "execution_count": 869,
      "outputs": [
        {
          "output_type": "execute_result",
          "data": {
            "text/plain": [
              "(19237, 18)"
            ]
          },
          "metadata": {},
          "execution_count": 869
        }
      ]
    },
    {
      "cell_type": "code",
      "source": [
        "# import dataset 2 and assign to dataframe, show first 5 rows\n",
        "filename = '/content/drive/MyDrive/Coding Dojo/Week 7/Project 2 - Part 1/VehicleInsuranceData[1].csv'\n",
        "df_2 = pd.read_csv(filename)\n",
        "df_2.head()"
      ],
      "metadata": {
        "colab": {
          "base_uri": "https://localhost:8080/",
          "height": 0
        },
        "id": "kUkBTvKHShid",
        "outputId": "01805faa-444e-45da-ba67-8de3723ece81"
      },
      "execution_count": 870,
      "outputs": [
        {
          "output_type": "execute_result",
          "data": {
            "text/plain": [
              "   Unnamed: 0           clv Response  Coverage Education EmploymentStatus  \\\n",
              "0           1   2763.519279       No     Basic  Bachelor         Employed   \n",
              "1           2   6979.535903       No  Extended  Bachelor       Unemployed   \n",
              "2           3  12887.431650       No   Premium  Bachelor         Employed   \n",
              "3           4   7645.861827       No     Basic  Bachelor       Unemployed   \n",
              "4           5   2813.692575       No     Basic  Bachelor         Employed   \n",
              "\n",
              "  Gender  Income Location.Code Marital.Status  ...  \\\n",
              "0      F   56274      Suburban        Married  ...   \n",
              "1      F       0      Suburban         Single  ...   \n",
              "2      F   48767      Suburban        Married  ...   \n",
              "3      M       0      Suburban        Married  ...   \n",
              "4      M   43836         Rural         Single  ...   \n",
              "\n",
              "   Months.Since.Policy.Inception  Number.of.Open.Complaints  \\\n",
              "0                              5                          0   \n",
              "1                             42                          0   \n",
              "2                             38                          0   \n",
              "3                             65                          0   \n",
              "4                             44                          0   \n",
              "\n",
              "   Number.of.Policies     Policy.Type        Policy Renew.Offer.Type  \\\n",
              "0                   1  Corporate Auto  Corporate L3           Offer1   \n",
              "1                   8   Personal Auto   Personal L3           Offer3   \n",
              "2                   2   Personal Auto   Personal L3           Offer1   \n",
              "3                   7  Corporate Auto  Corporate L2           Offer1   \n",
              "4                   1   Personal Auto   Personal L1           Offer1   \n",
              "\n",
              "  Sales.Channel Total.Claim.Amount  Vehicle.Class  Vehicle.Size  \n",
              "0         Agent         384.811147   Two-Door Car       Medsize  \n",
              "1         Agent        1131.464935  Four-Door Car       Medsize  \n",
              "2         Agent         566.472247   Two-Door Car       Medsize  \n",
              "3   Call Center         529.881344            SUV       Medsize  \n",
              "4         Agent         138.130879  Four-Door Car       Medsize  \n",
              "\n",
              "[5 rows x 22 columns]"
            ],
            "text/html": [
              "\n",
              "  <div id=\"df-916929cb-a62d-44e5-840c-fbc408513e5a\">\n",
              "    <div class=\"colab-df-container\">\n",
              "      <div>\n",
              "<style scoped>\n",
              "    .dataframe tbody tr th:only-of-type {\n",
              "        vertical-align: middle;\n",
              "    }\n",
              "\n",
              "    .dataframe tbody tr th {\n",
              "        vertical-align: top;\n",
              "    }\n",
              "\n",
              "    .dataframe thead th {\n",
              "        text-align: right;\n",
              "    }\n",
              "</style>\n",
              "<table border=\"1\" class=\"dataframe\">\n",
              "  <thead>\n",
              "    <tr style=\"text-align: right;\">\n",
              "      <th></th>\n",
              "      <th>Unnamed: 0</th>\n",
              "      <th>clv</th>\n",
              "      <th>Response</th>\n",
              "      <th>Coverage</th>\n",
              "      <th>Education</th>\n",
              "      <th>EmploymentStatus</th>\n",
              "      <th>Gender</th>\n",
              "      <th>Income</th>\n",
              "      <th>Location.Code</th>\n",
              "      <th>Marital.Status</th>\n",
              "      <th>...</th>\n",
              "      <th>Months.Since.Policy.Inception</th>\n",
              "      <th>Number.of.Open.Complaints</th>\n",
              "      <th>Number.of.Policies</th>\n",
              "      <th>Policy.Type</th>\n",
              "      <th>Policy</th>\n",
              "      <th>Renew.Offer.Type</th>\n",
              "      <th>Sales.Channel</th>\n",
              "      <th>Total.Claim.Amount</th>\n",
              "      <th>Vehicle.Class</th>\n",
              "      <th>Vehicle.Size</th>\n",
              "    </tr>\n",
              "  </thead>\n",
              "  <tbody>\n",
              "    <tr>\n",
              "      <th>0</th>\n",
              "      <td>1</td>\n",
              "      <td>2763.519279</td>\n",
              "      <td>No</td>\n",
              "      <td>Basic</td>\n",
              "      <td>Bachelor</td>\n",
              "      <td>Employed</td>\n",
              "      <td>F</td>\n",
              "      <td>56274</td>\n",
              "      <td>Suburban</td>\n",
              "      <td>Married</td>\n",
              "      <td>...</td>\n",
              "      <td>5</td>\n",
              "      <td>0</td>\n",
              "      <td>1</td>\n",
              "      <td>Corporate Auto</td>\n",
              "      <td>Corporate L3</td>\n",
              "      <td>Offer1</td>\n",
              "      <td>Agent</td>\n",
              "      <td>384.811147</td>\n",
              "      <td>Two-Door Car</td>\n",
              "      <td>Medsize</td>\n",
              "    </tr>\n",
              "    <tr>\n",
              "      <th>1</th>\n",
              "      <td>2</td>\n",
              "      <td>6979.535903</td>\n",
              "      <td>No</td>\n",
              "      <td>Extended</td>\n",
              "      <td>Bachelor</td>\n",
              "      <td>Unemployed</td>\n",
              "      <td>F</td>\n",
              "      <td>0</td>\n",
              "      <td>Suburban</td>\n",
              "      <td>Single</td>\n",
              "      <td>...</td>\n",
              "      <td>42</td>\n",
              "      <td>0</td>\n",
              "      <td>8</td>\n",
              "      <td>Personal Auto</td>\n",
              "      <td>Personal L3</td>\n",
              "      <td>Offer3</td>\n",
              "      <td>Agent</td>\n",
              "      <td>1131.464935</td>\n",
              "      <td>Four-Door Car</td>\n",
              "      <td>Medsize</td>\n",
              "    </tr>\n",
              "    <tr>\n",
              "      <th>2</th>\n",
              "      <td>3</td>\n",
              "      <td>12887.431650</td>\n",
              "      <td>No</td>\n",
              "      <td>Premium</td>\n",
              "      <td>Bachelor</td>\n",
              "      <td>Employed</td>\n",
              "      <td>F</td>\n",
              "      <td>48767</td>\n",
              "      <td>Suburban</td>\n",
              "      <td>Married</td>\n",
              "      <td>...</td>\n",
              "      <td>38</td>\n",
              "      <td>0</td>\n",
              "      <td>2</td>\n",
              "      <td>Personal Auto</td>\n",
              "      <td>Personal L3</td>\n",
              "      <td>Offer1</td>\n",
              "      <td>Agent</td>\n",
              "      <td>566.472247</td>\n",
              "      <td>Two-Door Car</td>\n",
              "      <td>Medsize</td>\n",
              "    </tr>\n",
              "    <tr>\n",
              "      <th>3</th>\n",
              "      <td>4</td>\n",
              "      <td>7645.861827</td>\n",
              "      <td>No</td>\n",
              "      <td>Basic</td>\n",
              "      <td>Bachelor</td>\n",
              "      <td>Unemployed</td>\n",
              "      <td>M</td>\n",
              "      <td>0</td>\n",
              "      <td>Suburban</td>\n",
              "      <td>Married</td>\n",
              "      <td>...</td>\n",
              "      <td>65</td>\n",
              "      <td>0</td>\n",
              "      <td>7</td>\n",
              "      <td>Corporate Auto</td>\n",
              "      <td>Corporate L2</td>\n",
              "      <td>Offer1</td>\n",
              "      <td>Call Center</td>\n",
              "      <td>529.881344</td>\n",
              "      <td>SUV</td>\n",
              "      <td>Medsize</td>\n",
              "    </tr>\n",
              "    <tr>\n",
              "      <th>4</th>\n",
              "      <td>5</td>\n",
              "      <td>2813.692575</td>\n",
              "      <td>No</td>\n",
              "      <td>Basic</td>\n",
              "      <td>Bachelor</td>\n",
              "      <td>Employed</td>\n",
              "      <td>M</td>\n",
              "      <td>43836</td>\n",
              "      <td>Rural</td>\n",
              "      <td>Single</td>\n",
              "      <td>...</td>\n",
              "      <td>44</td>\n",
              "      <td>0</td>\n",
              "      <td>1</td>\n",
              "      <td>Personal Auto</td>\n",
              "      <td>Personal L1</td>\n",
              "      <td>Offer1</td>\n",
              "      <td>Agent</td>\n",
              "      <td>138.130879</td>\n",
              "      <td>Four-Door Car</td>\n",
              "      <td>Medsize</td>\n",
              "    </tr>\n",
              "  </tbody>\n",
              "</table>\n",
              "<p>5 rows × 22 columns</p>\n",
              "</div>\n",
              "      <button class=\"colab-df-convert\" onclick=\"convertToInteractive('df-916929cb-a62d-44e5-840c-fbc408513e5a')\"\n",
              "              title=\"Convert this dataframe to an interactive table.\"\n",
              "              style=\"display:none;\">\n",
              "        \n",
              "  <svg xmlns=\"http://www.w3.org/2000/svg\" height=\"24px\"viewBox=\"0 0 24 24\"\n",
              "       width=\"24px\">\n",
              "    <path d=\"M0 0h24v24H0V0z\" fill=\"none\"/>\n",
              "    <path d=\"M18.56 5.44l.94 2.06.94-2.06 2.06-.94-2.06-.94-.94-2.06-.94 2.06-2.06.94zm-11 1L8.5 8.5l.94-2.06 2.06-.94-2.06-.94L8.5 2.5l-.94 2.06-2.06.94zm10 10l.94 2.06.94-2.06 2.06-.94-2.06-.94-.94-2.06-.94 2.06-2.06.94z\"/><path d=\"M17.41 7.96l-1.37-1.37c-.4-.4-.92-.59-1.43-.59-.52 0-1.04.2-1.43.59L10.3 9.45l-7.72 7.72c-.78.78-.78 2.05 0 2.83L4 21.41c.39.39.9.59 1.41.59.51 0 1.02-.2 1.41-.59l7.78-7.78 2.81-2.81c.8-.78.8-2.07 0-2.86zM5.41 20L4 18.59l7.72-7.72 1.47 1.35L5.41 20z\"/>\n",
              "  </svg>\n",
              "      </button>\n",
              "      \n",
              "  <style>\n",
              "    .colab-df-container {\n",
              "      display:flex;\n",
              "      flex-wrap:wrap;\n",
              "      gap: 12px;\n",
              "    }\n",
              "\n",
              "    .colab-df-convert {\n",
              "      background-color: #E8F0FE;\n",
              "      border: none;\n",
              "      border-radius: 50%;\n",
              "      cursor: pointer;\n",
              "      display: none;\n",
              "      fill: #1967D2;\n",
              "      height: 32px;\n",
              "      padding: 0 0 0 0;\n",
              "      width: 32px;\n",
              "    }\n",
              "\n",
              "    .colab-df-convert:hover {\n",
              "      background-color: #E2EBFA;\n",
              "      box-shadow: 0px 1px 2px rgba(60, 64, 67, 0.3), 0px 1px 3px 1px rgba(60, 64, 67, 0.15);\n",
              "      fill: #174EA6;\n",
              "    }\n",
              "\n",
              "    [theme=dark] .colab-df-convert {\n",
              "      background-color: #3B4455;\n",
              "      fill: #D2E3FC;\n",
              "    }\n",
              "\n",
              "    [theme=dark] .colab-df-convert:hover {\n",
              "      background-color: #434B5C;\n",
              "      box-shadow: 0px 1px 3px 1px rgba(0, 0, 0, 0.15);\n",
              "      filter: drop-shadow(0px 1px 2px rgba(0, 0, 0, 0.3));\n",
              "      fill: #FFFFFF;\n",
              "    }\n",
              "  </style>\n",
              "\n",
              "      <script>\n",
              "        const buttonEl =\n",
              "          document.querySelector('#df-916929cb-a62d-44e5-840c-fbc408513e5a button.colab-df-convert');\n",
              "        buttonEl.style.display =\n",
              "          google.colab.kernel.accessAllowed ? 'block' : 'none';\n",
              "\n",
              "        async function convertToInteractive(key) {\n",
              "          const element = document.querySelector('#df-916929cb-a62d-44e5-840c-fbc408513e5a');\n",
              "          const dataTable =\n",
              "            await google.colab.kernel.invokeFunction('convertToInteractive',\n",
              "                                                     [key], {});\n",
              "          if (!dataTable) return;\n",
              "\n",
              "          const docLinkHtml = 'Like what you see? Visit the ' +\n",
              "            '<a target=\"_blank\" href=https://colab.research.google.com/notebooks/data_table.ipynb>data table notebook</a>'\n",
              "            + ' to learn more about interactive tables.';\n",
              "          element.innerHTML = '';\n",
              "          dataTable['output_type'] = 'display_data';\n",
              "          await google.colab.output.renderOutput(dataTable, element);\n",
              "          const docLink = document.createElement('div');\n",
              "          docLink.innerHTML = docLinkHtml;\n",
              "          element.appendChild(docLink);\n",
              "        }\n",
              "      </script>\n",
              "    </div>\n",
              "  </div>\n",
              "  "
            ]
          },
          "metadata": {},
          "execution_count": 870
        }
      ]
    },
    {
      "cell_type": "code",
      "source": [
        "#inspect features, data tpes, null counts, etc.\n",
        "df_2.info()"
      ],
      "metadata": {
        "colab": {
          "base_uri": "https://localhost:8080/"
        },
        "id": "WjjsHRaWS24Y",
        "outputId": "e02797e7-56a4-4ae8-c40a-e8d53c69bcf1"
      },
      "execution_count": 871,
      "outputs": [
        {
          "output_type": "stream",
          "name": "stdout",
          "text": [
            "<class 'pandas.core.frame.DataFrame'>\n",
            "RangeIndex: 8630 entries, 0 to 8629\n",
            "Data columns (total 22 columns):\n",
            " #   Column                         Non-Null Count  Dtype  \n",
            "---  ------                         --------------  -----  \n",
            " 0   Unnamed: 0                     8630 non-null   int64  \n",
            " 1   clv                            8630 non-null   float64\n",
            " 2   Response                       8630 non-null   object \n",
            " 3   Coverage                       8630 non-null   object \n",
            " 4   Education                      8630 non-null   object \n",
            " 5   EmploymentStatus               8630 non-null   object \n",
            " 6   Gender                         8630 non-null   object \n",
            " 7   Income                         8630 non-null   int64  \n",
            " 8   Location.Code                  8630 non-null   object \n",
            " 9   Marital.Status                 8630 non-null   object \n",
            " 10  Monthly.Premium.Auto           8630 non-null   int64  \n",
            " 11  Months.Since.Last.Claim        8630 non-null   int64  \n",
            " 12  Months.Since.Policy.Inception  8630 non-null   int64  \n",
            " 13  Number.of.Open.Complaints      8630 non-null   int64  \n",
            " 14  Number.of.Policies             8630 non-null   int64  \n",
            " 15  Policy.Type                    8630 non-null   object \n",
            " 16  Policy                         8630 non-null   object \n",
            " 17  Renew.Offer.Type               8630 non-null   object \n",
            " 18  Sales.Channel                  8630 non-null   object \n",
            " 19  Total.Claim.Amount             8630 non-null   float64\n",
            " 20  Vehicle.Class                  8630 non-null   object \n",
            " 21  Vehicle.Size                   8630 non-null   object \n",
            "dtypes: float64(2), int64(7), object(13)\n",
            "memory usage: 1.4+ MB\n"
          ]
        }
      ]
    },
    {
      "cell_type": "code",
      "source": [
        "#determine # of rows and features (columns)\n",
        "np.shape(df_2)"
      ],
      "metadata": {
        "colab": {
          "base_uri": "https://localhost:8080/"
        },
        "id": "7cvAXQ1rTBds",
        "outputId": "2219dc77-deab-4df7-d6d0-92ff3b626fc8"
      },
      "execution_count": 872,
      "outputs": [
        {
          "output_type": "execute_result",
          "data": {
            "text/plain": [
              "(8630, 22)"
            ]
          },
          "metadata": {},
          "execution_count": 872
        }
      ]
    },
    {
      "cell_type": "markdown",
      "source": [
        "**First Choice: Dataset 1**\n",
        "\n",
        "1) Source of data: https://www.kaggle.com/datasets/deepcontractor/car-price-prediction-challenge \n",
        "\n",
        "2) Brief description of data: this dataset has information (data) for various car makes & models. Features included in the data set are Manufacturer, Model, Category, Fuel Type, color, etc.\n",
        "\n",
        "3) What is the target? Price (car price)\n",
        "\n",
        "4) Is this a classification or regression problem?: Regression\n",
        "\n",
        "5) How many features?: 18\n",
        "\n",
        "6) How many rows of data?: 19,237\n",
        "\n",
        "7) What, if any, challenges do your foresee in cleaning, exploring, or modeling with this dataset?\n",
        "*   determining which features to keep/drop based on if they factor into the target\n",
        "*   cleaning data, removing dups, imputing for missing values, missing data, etc.\n",
        "\n",
        "\n",
        "\n",
        "---\n",
        "\n",
        "\n",
        "\n",
        "**Second choice: dataset 2**\n",
        "\n",
        "1) Source of data: https://www.kaggle.com/datasets/junglisher/vehicle-insurance-data\n",
        "\n",
        "2) Brief description of data: this dataset has information for various individual insurance policies. Features included in the data set are Education, Marital Status, Income, Gender, etc. \n",
        "\n",
        "3) What is the target?: Monthly.Premium.Auto\n",
        "\n",
        "4) Is this a classification or regression problem?: Regression\n",
        "\n",
        "5) How many features?: 22\n",
        "\n",
        "6) How many rows of data?: 8630\n",
        "\n",
        "7) What, if any, challenges do your foresee in cleaning, exploring, or modeling with this dataset?\n",
        "*   determining which features to keep/drop based on if they factor into the target\n",
        "*   cleaning data, removing dups, imputing for missing values, missing data, etc."
      ],
      "metadata": {
        "id": "09MzJk87PVF0"
      }
    },
    {
      "cell_type": "markdown",
      "source": [
        "## Part 2"
      ],
      "metadata": {
        "id": "XMoRRZS-QN90"
      }
    },
    {
      "cell_type": "code",
      "source": [
        "#make a copy of the original dataframe\n",
        "df = df_1.copy()\n",
        "df.head()"
      ],
      "metadata": {
        "colab": {
          "base_uri": "https://localhost:8080/",
          "height": 354
        },
        "id": "Ihei42hdRunX",
        "outputId": "1612d227-d584-4bd6-af24-0815801e6fb3"
      },
      "execution_count": 873,
      "outputs": [
        {
          "output_type": "execute_result",
          "data": {
            "text/plain": [
              "         ID  Price  Levy Manufacturer    Model  Prod. year   Category  \\\n",
              "0  45654403  13328  1399        LEXUS   RX 450        2010       Jeep   \n",
              "1  44731507  16621  1018    CHEVROLET  Equinox        2011       Jeep   \n",
              "2  45774419   8467     -        HONDA      FIT        2006  Hatchback   \n",
              "3  45769185   3607   862         FORD   Escape        2011       Jeep   \n",
              "4  45809263  11726   446        HONDA      FIT        2014  Hatchback   \n",
              "\n",
              "  Leather interior Fuel type Engine volume    Mileage  Cylinders  \\\n",
              "0              Yes    Hybrid           3.5  186005 km        6.0   \n",
              "1               No    Petrol             3  192000 km        6.0   \n",
              "2               No    Petrol           1.3  200000 km        4.0   \n",
              "3              Yes    Hybrid           2.5  168966 km        4.0   \n",
              "4              Yes    Petrol           1.3   91901 km        4.0   \n",
              "\n",
              "  Gear box type Drive wheels   Doors             Wheel   Color  Airbags  \n",
              "0     Automatic          4x4  04-May        Left wheel  Silver       12  \n",
              "1     Tiptronic          4x4  04-May        Left wheel   Black        8  \n",
              "2      Variator        Front  04-May  Right-hand drive   Black        2  \n",
              "3     Automatic          4x4  04-May        Left wheel   White        0  \n",
              "4     Automatic        Front  04-May        Left wheel  Silver        4  "
            ],
            "text/html": [
              "\n",
              "  <div id=\"df-ce5f9950-47a5-481a-bd13-cd9b750ada49\">\n",
              "    <div class=\"colab-df-container\">\n",
              "      <div>\n",
              "<style scoped>\n",
              "    .dataframe tbody tr th:only-of-type {\n",
              "        vertical-align: middle;\n",
              "    }\n",
              "\n",
              "    .dataframe tbody tr th {\n",
              "        vertical-align: top;\n",
              "    }\n",
              "\n",
              "    .dataframe thead th {\n",
              "        text-align: right;\n",
              "    }\n",
              "</style>\n",
              "<table border=\"1\" class=\"dataframe\">\n",
              "  <thead>\n",
              "    <tr style=\"text-align: right;\">\n",
              "      <th></th>\n",
              "      <th>ID</th>\n",
              "      <th>Price</th>\n",
              "      <th>Levy</th>\n",
              "      <th>Manufacturer</th>\n",
              "      <th>Model</th>\n",
              "      <th>Prod. year</th>\n",
              "      <th>Category</th>\n",
              "      <th>Leather interior</th>\n",
              "      <th>Fuel type</th>\n",
              "      <th>Engine volume</th>\n",
              "      <th>Mileage</th>\n",
              "      <th>Cylinders</th>\n",
              "      <th>Gear box type</th>\n",
              "      <th>Drive wheels</th>\n",
              "      <th>Doors</th>\n",
              "      <th>Wheel</th>\n",
              "      <th>Color</th>\n",
              "      <th>Airbags</th>\n",
              "    </tr>\n",
              "  </thead>\n",
              "  <tbody>\n",
              "    <tr>\n",
              "      <th>0</th>\n",
              "      <td>45654403</td>\n",
              "      <td>13328</td>\n",
              "      <td>1399</td>\n",
              "      <td>LEXUS</td>\n",
              "      <td>RX 450</td>\n",
              "      <td>2010</td>\n",
              "      <td>Jeep</td>\n",
              "      <td>Yes</td>\n",
              "      <td>Hybrid</td>\n",
              "      <td>3.5</td>\n",
              "      <td>186005 km</td>\n",
              "      <td>6.0</td>\n",
              "      <td>Automatic</td>\n",
              "      <td>4x4</td>\n",
              "      <td>04-May</td>\n",
              "      <td>Left wheel</td>\n",
              "      <td>Silver</td>\n",
              "      <td>12</td>\n",
              "    </tr>\n",
              "    <tr>\n",
              "      <th>1</th>\n",
              "      <td>44731507</td>\n",
              "      <td>16621</td>\n",
              "      <td>1018</td>\n",
              "      <td>CHEVROLET</td>\n",
              "      <td>Equinox</td>\n",
              "      <td>2011</td>\n",
              "      <td>Jeep</td>\n",
              "      <td>No</td>\n",
              "      <td>Petrol</td>\n",
              "      <td>3</td>\n",
              "      <td>192000 km</td>\n",
              "      <td>6.0</td>\n",
              "      <td>Tiptronic</td>\n",
              "      <td>4x4</td>\n",
              "      <td>04-May</td>\n",
              "      <td>Left wheel</td>\n",
              "      <td>Black</td>\n",
              "      <td>8</td>\n",
              "    </tr>\n",
              "    <tr>\n",
              "      <th>2</th>\n",
              "      <td>45774419</td>\n",
              "      <td>8467</td>\n",
              "      <td>-</td>\n",
              "      <td>HONDA</td>\n",
              "      <td>FIT</td>\n",
              "      <td>2006</td>\n",
              "      <td>Hatchback</td>\n",
              "      <td>No</td>\n",
              "      <td>Petrol</td>\n",
              "      <td>1.3</td>\n",
              "      <td>200000 km</td>\n",
              "      <td>4.0</td>\n",
              "      <td>Variator</td>\n",
              "      <td>Front</td>\n",
              "      <td>04-May</td>\n",
              "      <td>Right-hand drive</td>\n",
              "      <td>Black</td>\n",
              "      <td>2</td>\n",
              "    </tr>\n",
              "    <tr>\n",
              "      <th>3</th>\n",
              "      <td>45769185</td>\n",
              "      <td>3607</td>\n",
              "      <td>862</td>\n",
              "      <td>FORD</td>\n",
              "      <td>Escape</td>\n",
              "      <td>2011</td>\n",
              "      <td>Jeep</td>\n",
              "      <td>Yes</td>\n",
              "      <td>Hybrid</td>\n",
              "      <td>2.5</td>\n",
              "      <td>168966 km</td>\n",
              "      <td>4.0</td>\n",
              "      <td>Automatic</td>\n",
              "      <td>4x4</td>\n",
              "      <td>04-May</td>\n",
              "      <td>Left wheel</td>\n",
              "      <td>White</td>\n",
              "      <td>0</td>\n",
              "    </tr>\n",
              "    <tr>\n",
              "      <th>4</th>\n",
              "      <td>45809263</td>\n",
              "      <td>11726</td>\n",
              "      <td>446</td>\n",
              "      <td>HONDA</td>\n",
              "      <td>FIT</td>\n",
              "      <td>2014</td>\n",
              "      <td>Hatchback</td>\n",
              "      <td>Yes</td>\n",
              "      <td>Petrol</td>\n",
              "      <td>1.3</td>\n",
              "      <td>91901 km</td>\n",
              "      <td>4.0</td>\n",
              "      <td>Automatic</td>\n",
              "      <td>Front</td>\n",
              "      <td>04-May</td>\n",
              "      <td>Left wheel</td>\n",
              "      <td>Silver</td>\n",
              "      <td>4</td>\n",
              "    </tr>\n",
              "  </tbody>\n",
              "</table>\n",
              "</div>\n",
              "      <button class=\"colab-df-convert\" onclick=\"convertToInteractive('df-ce5f9950-47a5-481a-bd13-cd9b750ada49')\"\n",
              "              title=\"Convert this dataframe to an interactive table.\"\n",
              "              style=\"display:none;\">\n",
              "        \n",
              "  <svg xmlns=\"http://www.w3.org/2000/svg\" height=\"24px\"viewBox=\"0 0 24 24\"\n",
              "       width=\"24px\">\n",
              "    <path d=\"M0 0h24v24H0V0z\" fill=\"none\"/>\n",
              "    <path d=\"M18.56 5.44l.94 2.06.94-2.06 2.06-.94-2.06-.94-.94-2.06-.94 2.06-2.06.94zm-11 1L8.5 8.5l.94-2.06 2.06-.94-2.06-.94L8.5 2.5l-.94 2.06-2.06.94zm10 10l.94 2.06.94-2.06 2.06-.94-2.06-.94-.94-2.06-.94 2.06-2.06.94z\"/><path d=\"M17.41 7.96l-1.37-1.37c-.4-.4-.92-.59-1.43-.59-.52 0-1.04.2-1.43.59L10.3 9.45l-7.72 7.72c-.78.78-.78 2.05 0 2.83L4 21.41c.39.39.9.59 1.41.59.51 0 1.02-.2 1.41-.59l7.78-7.78 2.81-2.81c.8-.78.8-2.07 0-2.86zM5.41 20L4 18.59l7.72-7.72 1.47 1.35L5.41 20z\"/>\n",
              "  </svg>\n",
              "      </button>\n",
              "      \n",
              "  <style>\n",
              "    .colab-df-container {\n",
              "      display:flex;\n",
              "      flex-wrap:wrap;\n",
              "      gap: 12px;\n",
              "    }\n",
              "\n",
              "    .colab-df-convert {\n",
              "      background-color: #E8F0FE;\n",
              "      border: none;\n",
              "      border-radius: 50%;\n",
              "      cursor: pointer;\n",
              "      display: none;\n",
              "      fill: #1967D2;\n",
              "      height: 32px;\n",
              "      padding: 0 0 0 0;\n",
              "      width: 32px;\n",
              "    }\n",
              "\n",
              "    .colab-df-convert:hover {\n",
              "      background-color: #E2EBFA;\n",
              "      box-shadow: 0px 1px 2px rgba(60, 64, 67, 0.3), 0px 1px 3px 1px rgba(60, 64, 67, 0.15);\n",
              "      fill: #174EA6;\n",
              "    }\n",
              "\n",
              "    [theme=dark] .colab-df-convert {\n",
              "      background-color: #3B4455;\n",
              "      fill: #D2E3FC;\n",
              "    }\n",
              "\n",
              "    [theme=dark] .colab-df-convert:hover {\n",
              "      background-color: #434B5C;\n",
              "      box-shadow: 0px 1px 3px 1px rgba(0, 0, 0, 0.15);\n",
              "      filter: drop-shadow(0px 1px 2px rgba(0, 0, 0, 0.3));\n",
              "      fill: #FFFFFF;\n",
              "    }\n",
              "  </style>\n",
              "\n",
              "      <script>\n",
              "        const buttonEl =\n",
              "          document.querySelector('#df-ce5f9950-47a5-481a-bd13-cd9b750ada49 button.colab-df-convert');\n",
              "        buttonEl.style.display =\n",
              "          google.colab.kernel.accessAllowed ? 'block' : 'none';\n",
              "\n",
              "        async function convertToInteractive(key) {\n",
              "          const element = document.querySelector('#df-ce5f9950-47a5-481a-bd13-cd9b750ada49');\n",
              "          const dataTable =\n",
              "            await google.colab.kernel.invokeFunction('convertToInteractive',\n",
              "                                                     [key], {});\n",
              "          if (!dataTable) return;\n",
              "\n",
              "          const docLinkHtml = 'Like what you see? Visit the ' +\n",
              "            '<a target=\"_blank\" href=https://colab.research.google.com/notebooks/data_table.ipynb>data table notebook</a>'\n",
              "            + ' to learn more about interactive tables.';\n",
              "          element.innerHTML = '';\n",
              "          dataTable['output_type'] = 'display_data';\n",
              "          await google.colab.output.renderOutput(dataTable, element);\n",
              "          const docLink = document.createElement('div');\n",
              "          docLink.innerHTML = docLinkHtml;\n",
              "          element.appendChild(docLink);\n",
              "        }\n",
              "      </script>\n",
              "    </div>\n",
              "  </div>\n",
              "  "
            ]
          },
          "metadata": {},
          "execution_count": 873
        }
      ]
    },
    {
      "cell_type": "markdown",
      "source": [
        "###delete unnecessary columns"
      ],
      "metadata": {
        "id": "1P-MT4ndxahe"
      }
    },
    {
      "cell_type": "code",
      "source": [
        "#view all features (columns) to determine which can be deleted\n",
        "#only delete columns that dont significantly impact the target\n",
        "df.info()"
      ],
      "metadata": {
        "colab": {
          "base_uri": "https://localhost:8080/"
        },
        "id": "7X_Epb1gUG86",
        "outputId": "a8a0ffb5-8297-4a21-bc50-40c1213a0e0f"
      },
      "execution_count": 874,
      "outputs": [
        {
          "output_type": "stream",
          "name": "stdout",
          "text": [
            "<class 'pandas.core.frame.DataFrame'>\n",
            "RangeIndex: 19237 entries, 0 to 19236\n",
            "Data columns (total 18 columns):\n",
            " #   Column            Non-Null Count  Dtype  \n",
            "---  ------            --------------  -----  \n",
            " 0   ID                19237 non-null  int64  \n",
            " 1   Price             19237 non-null  int64  \n",
            " 2   Levy              19237 non-null  object \n",
            " 3   Manufacturer      19237 non-null  object \n",
            " 4   Model             19237 non-null  object \n",
            " 5   Prod. year        19237 non-null  int64  \n",
            " 6   Category          19237 non-null  object \n",
            " 7   Leather interior  19237 non-null  object \n",
            " 8   Fuel type         19237 non-null  object \n",
            " 9   Engine volume     19237 non-null  object \n",
            " 10  Mileage           19237 non-null  object \n",
            " 11  Cylinders         19237 non-null  float64\n",
            " 12  Gear box type     19237 non-null  object \n",
            " 13  Drive wheels      19237 non-null  object \n",
            " 14  Doors             19237 non-null  object \n",
            " 15  Wheel             19237 non-null  object \n",
            " 16  Color             19237 non-null  object \n",
            " 17  Airbags           19237 non-null  int64  \n",
            "dtypes: float64(1), int64(4), object(13)\n",
            "memory usage: 2.6+ MB\n"
          ]
        }
      ]
    },
    {
      "cell_type": "code",
      "source": [
        "#delete unneccesary featues\n",
        "df = df.drop(columns = ['ID', 'Levy'])\n",
        "#veryify features were dropped successfuly\n",
        "df.info()"
      ],
      "metadata": {
        "colab": {
          "base_uri": "https://localhost:8080/"
        },
        "id": "AUbRP21lVtsv",
        "outputId": "39984733-085c-40f0-a7be-c0fc68495585"
      },
      "execution_count": 875,
      "outputs": [
        {
          "output_type": "stream",
          "name": "stdout",
          "text": [
            "<class 'pandas.core.frame.DataFrame'>\n",
            "RangeIndex: 19237 entries, 0 to 19236\n",
            "Data columns (total 16 columns):\n",
            " #   Column            Non-Null Count  Dtype  \n",
            "---  ------            --------------  -----  \n",
            " 0   Price             19237 non-null  int64  \n",
            " 1   Manufacturer      19237 non-null  object \n",
            " 2   Model             19237 non-null  object \n",
            " 3   Prod. year        19237 non-null  int64  \n",
            " 4   Category          19237 non-null  object \n",
            " 5   Leather interior  19237 non-null  object \n",
            " 6   Fuel type         19237 non-null  object \n",
            " 7   Engine volume     19237 non-null  object \n",
            " 8   Mileage           19237 non-null  object \n",
            " 9   Cylinders         19237 non-null  float64\n",
            " 10  Gear box type     19237 non-null  object \n",
            " 11  Drive wheels      19237 non-null  object \n",
            " 12  Doors             19237 non-null  object \n",
            " 13  Wheel             19237 non-null  object \n",
            " 14  Color             19237 non-null  object \n",
            " 15  Airbags           19237 non-null  int64  \n",
            "dtypes: float64(1), int64(3), object(12)\n",
            "memory usage: 2.3+ MB\n"
          ]
        }
      ]
    },
    {
      "cell_type": "code",
      "source": [
        "#create correlation heatmap to see if other features that can be dropped\n",
        "corr = df.corr()\n",
        "sns.heatmap(corr, cmap = 'Greens', annot = True);\n",
        "#takeaway: can remove Airbags, Cylinders, and Prod year"
      ],
      "metadata": {
        "colab": {
          "base_uri": "https://localhost:8080/",
          "height": 269
        },
        "id": "3UF1PLBWg2Xq",
        "outputId": "09d9c27a-b6a9-4129-c5ac-fd46091a9ad5"
      },
      "execution_count": 876,
      "outputs": [
        {
          "output_type": "display_data",
          "data": {
            "text/plain": [
              "<Figure size 432x288 with 2 Axes>"
            ],
            "image/png": "[encoded data removed]"
          },
          "metadata": {
            "needs_background": "light"
          }
        }
      ]
    },
    {
      "cell_type": "code",
      "source": [
        "#delete unneccesary featues\n",
        "df = df.drop(columns = ['Airbags', 'Cylinders', 'Prod. year'])\n",
        "#veryify features were dropped successfuly\n",
        "df.info()"
      ],
      "metadata": {
        "colab": {
          "base_uri": "https://localhost:8080/"
        },
        "id": "DASL-xaxwg_7",
        "outputId": "04815103-eeba-435c-d0d4-935f6e38a2d7"
      },
      "execution_count": 877,
      "outputs": [
        {
          "output_type": "stream",
          "name": "stdout",
          "text": [
            "<class 'pandas.core.frame.DataFrame'>\n",
            "RangeIndex: 19237 entries, 0 to 19236\n",
            "Data columns (total 13 columns):\n",
            " #   Column            Non-Null Count  Dtype \n",
            "---  ------            --------------  ----- \n",
            " 0   Price             19237 non-null  int64 \n",
            " 1   Manufacturer      19237 non-null  object\n",
            " 2   Model             19237 non-null  object\n",
            " 3   Category          19237 non-null  object\n",
            " 4   Leather interior  19237 non-null  object\n",
            " 5   Fuel type         19237 non-null  object\n",
            " 6   Engine volume     19237 non-null  object\n",
            " 7   Mileage           19237 non-null  object\n",
            " 8   Gear box type     19237 non-null  object\n",
            " 9   Drive wheels      19237 non-null  object\n",
            " 10  Doors             19237 non-null  object\n",
            " 11  Wheel             19237 non-null  object\n",
            " 12  Color             19237 non-null  object\n",
            "dtypes: int64(1), object(12)\n",
            "memory usage: 1.9+ MB\n"
          ]
        }
      ]
    },
    {
      "cell_type": "markdown",
      "source": [
        "###delete duplicate rows"
      ],
      "metadata": {
        "id": "IMuGEC54xmMa"
      }
    },
    {
      "cell_type": "code",
      "source": [
        "#dertimine # of rows pre dropping duplicate rows\n",
        "df.shape"
      ],
      "metadata": {
        "colab": {
          "base_uri": "https://localhost:8080/"
        },
        "id": "EAApLN5ETcmq",
        "outputId": "c526756a-30db-404d-f9cd-beac7127dc58"
      },
      "execution_count": 878,
      "outputs": [
        {
          "output_type": "execute_result",
          "data": {
            "text/plain": [
              "(19237, 13)"
            ]
          },
          "metadata": {},
          "execution_count": 878
        }
      ]
    },
    {
      "cell_type": "code",
      "source": [
        "#determine # of duplicate rows\n",
        "df.duplicated().sum()"
      ],
      "metadata": {
        "colab": {
          "base_uri": "https://localhost:8080/"
        },
        "id": "KEYng5UgSBL2",
        "outputId": "7570cce3-9281-40e4-9c26-6e21f51046c7"
      },
      "execution_count": 879,
      "outputs": [
        {
          "output_type": "execute_result",
          "data": {
            "text/plain": [
              "3544"
            ]
          },
          "metadata": {},
          "execution_count": 879
        }
      ]
    },
    {
      "cell_type": "code",
      "source": [
        "#drop duplicated rows\n",
        "df = df.drop_duplicates()\n",
        "\n",
        "#determing # of rows post droping duplicate rows\n",
        "df.shape"
      ],
      "metadata": {
        "colab": {
          "base_uri": "https://localhost:8080/"
        },
        "id": "sq1GI5TbSEGP",
        "outputId": "54af4c55-671b-4818-d735-daf073942ecb"
      },
      "execution_count": 880,
      "outputs": [
        {
          "output_type": "execute_result",
          "data": {
            "text/plain": [
              "(15693, 13)"
            ]
          },
          "metadata": {},
          "execution_count": 880
        }
      ]
    },
    {
      "cell_type": "markdown",
      "source": [
        "###identify and address missing values"
      ],
      "metadata": {
        "id": "wvN9nNGaxu6M"
      }
    },
    {
      "cell_type": "code",
      "source": [
        "#count total missing values\n",
        "df.isna().sum().sum()"
      ],
      "metadata": {
        "colab": {
          "base_uri": "https://localhost:8080/"
        },
        "id": "JvgYUPrOTJil",
        "outputId": "83e2c1c4-0ff4-4c89-af57-7e1cfc40d529"
      },
      "execution_count": 881,
      "outputs": [
        {
          "output_type": "execute_result",
          "data": {
            "text/plain": [
              "0"
            ]
          },
          "metadata": {},
          "execution_count": 881
        }
      ]
    },
    {
      "cell_type": "markdown",
      "source": [
        "###identify and correct inconsistencies in data for categorical values "
      ],
      "metadata": {
        "id": "xK2pZ7brx7yR"
      }
    },
    {
      "cell_type": "code",
      "source": [
        "#set diplay rows to 999 so we can see all feature unique values\n",
        "pd.set_option(\"display.max_rows\", 999)"
      ],
      "metadata": {
        "id": "kS4N99pxZPIk"
      },
      "execution_count": 882,
      "outputs": []
    },
    {
      "cell_type": "code",
      "source": [
        "#view the Manufacturer field to see if any data cleanup is needed\n",
        "df['Manufacturer'].value_counts(dropna=False).sort_index()"
      ],
      "metadata": {
        "colab": {
          "base_uri": "https://localhost:8080/"
        },
        "id": "_f8ls0rYZvVk",
        "outputId": "f55e3650-a3e3-4605-a887-b24f01356cb7"
      },
      "execution_count": 883,
      "outputs": [
        {
          "output_type": "execute_result",
          "data": {
            "text/plain": [
              "ACURA              15\n",
              "ALFA ROMEO          4\n",
              "ASTON MARTIN        1\n",
              "AUDI              194\n",
              "BENTLEY             2\n",
              "BMW               920\n",
              "BUICK              16\n",
              "CADILLAC           14\n",
              "CHEVROLET         967\n",
              "CHRYSLER           26\n",
              "CITROEN             9\n",
              "DAEWOO             61\n",
              "DAIHATSU           13\n",
              "DODGE              89\n",
              "FERRARI             2\n",
              "FIAT               76\n",
              "FORD              954\n",
              "GAZ                12\n",
              "GMC                13\n",
              "GREATWALL           1\n",
              "HAVAL               1\n",
              "HONDA             872\n",
              "HUMMER              5\n",
              "HYUNDAI          3048\n",
              "INFINITI           26\n",
              "ISUZU               4\n",
              "JAGUAR             42\n",
              "JEEP              138\n",
              "KIA               409\n",
              "LAMBORGHINI         1\n",
              "LANCIA              1\n",
              "LAND ROVER         48\n",
              "LEXUS             419\n",
              "LINCOLN            15\n",
              "MASERATI            4\n",
              "MAZDA             141\n",
              "MERCEDES-BENZ    1449\n",
              "MERCURY             4\n",
              "MINI               47\n",
              "MITSUBISHI        288\n",
              "MOSKVICH            4\n",
              "NISSAN            594\n",
              "OPEL              396\n",
              "PEUGEOT            17\n",
              "PONTIAC             1\n",
              "PORSCHE            52\n",
              "RENAULT            36\n",
              "ROLLS-ROYCE         2\n",
              "ROVER               3\n",
              "SAAB                2\n",
              "SATURN              1\n",
              "SCION               7\n",
              "SEAT                2\n",
              "SKODA              20\n",
              "SSANGYONG         415\n",
              "SUBARU            226\n",
              "SUZUKI             70\n",
              "TESLA               1\n",
              "TOYOTA           2856\n",
              "UAZ                12\n",
              "VAZ                47\n",
              "VOLKSWAGEN        555\n",
              "VOLVO              19\n",
              "ZAZ                 2\n",
              "სხვა                2\n",
              "Name: Manufacturer, dtype: int64"
            ]
          },
          "metadata": {},
          "execution_count": 883
        }
      ]
    },
    {
      "cell_type": "code",
      "source": [
        "#view the model field to see if any data cleanup is needed\n",
        "df['Model'].value_counts(dropna=False).sort_index()"
      ],
      "metadata": {
        "colab": {
          "base_uri": "https://localhost:8080/"
        },
        "id": "G-U4E7fCgNH4",
        "outputId": "204d545b-b970-48e5-de6b-9aded05caec4"
      },
      "execution_count": 884,
      "outputs": [
        {
          "output_type": "execute_result",
          "data": {
            "text/plain": [
              "09-Mar     2\n",
              "100        2\n",
              "100 NX     1\n",
              "1000       7\n",
              "1111       1\n",
              "          ..\n",
              "kona       1\n",
              "macan      2\n",
              "macan S    1\n",
              "tC         3\n",
              "xD         3\n",
              "Name: Model, Length: 1590, dtype: int64"
            ]
          },
          "metadata": {},
          "execution_count": 884
        }
      ]
    },
    {
      "cell_type": "code",
      "source": [
        "#drop \"Model\" feature because too many unqiue fields + cleanup work needed\n",
        "df = df.drop(columns = ['Model'])\n",
        "#view dataframe to ensure Model has been dropped\n",
        "df.info()"
      ],
      "metadata": {
        "colab": {
          "base_uri": "https://localhost:8080/"
        },
        "id": "lpUvswICgo0x",
        "outputId": "ee65438b-3615-4357-d980-386a44d3a001"
      },
      "execution_count": 885,
      "outputs": [
        {
          "output_type": "stream",
          "name": "stdout",
          "text": [
            "<class 'pandas.core.frame.DataFrame'>\n",
            "Int64Index: 15693 entries, 0 to 19236\n",
            "Data columns (total 12 columns):\n",
            " #   Column            Non-Null Count  Dtype \n",
            "---  ------            --------------  ----- \n",
            " 0   Price             15693 non-null  int64 \n",
            " 1   Manufacturer      15693 non-null  object\n",
            " 2   Category          15693 non-null  object\n",
            " 3   Leather interior  15693 non-null  object\n",
            " 4   Fuel type         15693 non-null  object\n",
            " 5   Engine volume     15693 non-null  object\n",
            " 6   Mileage           15693 non-null  object\n",
            " 7   Gear box type     15693 non-null  object\n",
            " 8   Drive wheels      15693 non-null  object\n",
            " 9   Doors             15693 non-null  object\n",
            " 10  Wheel             15693 non-null  object\n",
            " 11  Color             15693 non-null  object\n",
            "dtypes: int64(1), object(11)\n",
            "memory usage: 1.6+ MB\n"
          ]
        }
      ]
    },
    {
      "cell_type": "code",
      "source": [
        "#view the Category field to see if any data cleanup is needed\n",
        "df['Category'].value_counts(dropna=False).sort_index()"
      ],
      "metadata": {
        "colab": {
          "base_uri": "https://localhost:8080/"
        },
        "id": "bJW2i9PHg0yX",
        "outputId": "68d97ec1-1491-4e1e-86e1-189b2c2b82b5"
      },
      "execution_count": 886,
      "outputs": [
        {
          "output_type": "execute_result",
          "data": {
            "text/plain": [
              "Cabriolet        35\n",
              "Coupe           476\n",
              "Goods wagon     229\n",
              "Hatchback      2537\n",
              "Jeep           4216\n",
              "Limousine        11\n",
              "Microbus        295\n",
              "Minivan         534\n",
              "Pickup           51\n",
              "Sedan          6998\n",
              "Universal       311\n",
              "Name: Category, dtype: int64"
            ]
          },
          "metadata": {},
          "execution_count": 886
        }
      ]
    },
    {
      "cell_type": "code",
      "source": [
        "#view the Leather interior field to see if any data cleanup is needed\n",
        "df['Leather interior'].value_counts(dropna=False).sort_index()"
      ],
      "metadata": {
        "colab": {
          "base_uri": "https://localhost:8080/"
        },
        "id": "1IBxR8oTg-5K",
        "outputId": "7b557836-7563-4091-88ef-8fee30d3a438"
      },
      "execution_count": 887,
      "outputs": [
        {
          "output_type": "execute_result",
          "data": {
            "text/plain": [
              "No      5151\n",
              "Yes    10542\n",
              "Name: Leather interior, dtype: int64"
            ]
          },
          "metadata": {},
          "execution_count": 887
        }
      ]
    },
    {
      "cell_type": "code",
      "source": [
        "#view the Fuel type field to see if any data cleanup is needed\n",
        "df['Fuel type'].value_counts(dropna=False).sort_index()"
      ],
      "metadata": {
        "colab": {
          "base_uri": "https://localhost:8080/"
        },
        "id": "LenyEWhnhMZL",
        "outputId": "a13a4208-9725-45ec-e43d-a4aec1be0916"
      },
      "execution_count": 888,
      "outputs": [
        {
          "output_type": "execute_result",
          "data": {
            "text/plain": [
              "CNG                468\n",
              "Diesel            3205\n",
              "Hybrid            2416\n",
              "Hydrogen             1\n",
              "LPG                713\n",
              "Petrol            8805\n",
              "Plug-in Hybrid      85\n",
              "Name: Fuel type, dtype: int64"
            ]
          },
          "metadata": {},
          "execution_count": 888
        }
      ]
    },
    {
      "cell_type": "code",
      "source": [
        "#view the Engine volume field to see if any data cleanup is needed\n",
        "df['Engine volume'].value_counts(dropna=False).sort_index()"
      ],
      "metadata": {
        "colab": {
          "base_uri": "https://localhost:8080/"
        },
        "id": "VvTmFsHFhkcp",
        "outputId": "2a527294-ba36-4c7a-d58c-f24664ad9213"
      },
      "execution_count": 889,
      "outputs": [
        {
          "output_type": "execute_result",
          "data": {
            "text/plain": [
              "0               9\n",
              "0.1             4\n",
              "0.2             8\n",
              "0.2 Turbo       1\n",
              "0.3             2\n",
              "0.3 Turbo       1\n",
              "0.4             5\n",
              "0.4 Turbo       1\n",
              "0.5             1\n",
              "0.6             4\n",
              "0.6 Turbo       3\n",
              "0.7            19\n",
              "0.7 Turbo       6\n",
              "0.8             7\n",
              "0.8 Turbo       1\n",
              "0.9             2\n",
              "1             115\n",
              "1.0 Turbo       8\n",
              "1.1             8\n",
              "1.1 Turbo       1\n",
              "1.2           101\n",
              "1.2 Turbo       4\n",
              "1.3           455\n",
              "1.3 Turbo      18\n",
              "1.4           313\n",
              "1.4 Turbo     154\n",
              "1.5          1232\n",
              "1.5 Turbo      65\n",
              "1.6          1221\n",
              "1.6 Turbo     116\n",
              "1.7           150\n",
              "1.7 Turbo      38\n",
              "1.8          1533\n",
              "1.8 Turbo     175\n",
              "1.9            39\n",
              "1.9 Turbo      31\n",
              "2            3312\n",
              "2.0 Turbo     402\n",
              "2.1             7\n",
              "2.1 Turbo       3\n",
              "2.2           215\n",
              "2.2 Turbo     213\n",
              "2.3           111\n",
              "2.3 Turbo      16\n",
              "2.4           884\n",
              "2.4 Turbo      49\n",
              "2.5          1649\n",
              "2.5 Turbo      91\n",
              "2.6            18\n",
              "2.7           103\n",
              "2.7 Turbo      49\n",
              "2.8            58\n",
              "2.8 Turbo      12\n",
              "2.9             9\n",
              "2.9 Turbo      12\n",
              "20              1\n",
              "3             592\n",
              "3.0 Turbo     268\n",
              "3.1             1\n",
              "3.2           145\n",
              "3.2 Turbo      24\n",
              "3.3            95\n",
              "3.4             7\n",
              "3.5           595\n",
              "3.5 Turbo      37\n",
              "3.6           112\n",
              "3.6 Turbo       5\n",
              "3.7            65\n",
              "3.7 Turbo       2\n",
              "3.8            29\n",
              "3.9             2\n",
              "4              86\n",
              "4.0 Turbo       3\n",
              "4.2            18\n",
              "4.2 Turbo       2\n",
              "4.3            11\n",
              "4.4            70\n",
              "4.4 Turbo      24\n",
              "4.5            12\n",
              "4.5 Turbo       7\n",
              "4.6           106\n",
              "4.6 Turbo       5\n",
              "4.7            51\n",
              "4.7 Turbo      18\n",
              "4.8            33\n",
              "4.8 Turbo       2\n",
              "5              66\n",
              "5.0 Turbo       4\n",
              "5.2             1\n",
              "5.3             8\n",
              "5.4             5\n",
              "5.4 Turbo       1\n",
              "5.5            40\n",
              "5.5 Turbo      11\n",
              "5.6             5\n",
              "5.7            28\n",
              "5.7 Turbo       1\n",
              "5.8             1\n",
              "5.9             3\n",
              "6               5\n",
              "6.2            10\n",
              "6.3             4\n",
              "6.3 Turbo       3\n",
              "6.4             2\n",
              "6.7             1\n",
              "6.8             1\n",
              "7.3             1\n",
              "Name: Engine volume, dtype: int64"
            ]
          },
          "metadata": {},
          "execution_count": 889
        }
      ]
    },
    {
      "cell_type": "code",
      "source": [
        "#view the Mileage field to see if any data cleanup is needed\n",
        "df['Mileage'].value_counts(dropna=False).sort_index()"
      ],
      "metadata": {
        "colab": {
          "base_uri": "https://localhost:8080/"
        },
        "id": "VaNgiTTOhyID",
        "outputId": "4f727543-63e3-4023-b41b-aaccf8590958"
      },
      "execution_count": 890,
      "outputs": [
        {
          "output_type": "execute_result",
          "data": {
            "text/plain": [
              "0 km            598\n",
              "1000 km         100\n",
              "10000 km         33\n",
              "100000 km       104\n",
              "1000000 km        1\n",
              "               ... \n",
              "99949 km          1\n",
              "99971 km          1\n",
              "99999 km          3\n",
              "999999 km         3\n",
              "999999999 km      5\n",
              "Name: Mileage, Length: 7687, dtype: int64"
            ]
          },
          "metadata": {},
          "execution_count": 890
        }
      ]
    },
    {
      "cell_type": "code",
      "source": [
        "#view the Gear box type field to see if any data cleanup is needed\n",
        "df['Gear box type'].value_counts(dropna=False).sort_index()"
      ],
      "metadata": {
        "colab": {
          "base_uri": "https://localhost:8080/"
        },
        "id": "hcmaIzCuihyQ",
        "outputId": "831148e7-0903-4606-8c18-702c80529169"
      },
      "execution_count": 891,
      "outputs": [
        {
          "output_type": "execute_result",
          "data": {
            "text/plain": [
              "Automatic    10063\n",
              "Manual        1838\n",
              "Tiptronic     3060\n",
              "Variator       732\n",
              "Name: Gear box type, dtype: int64"
            ]
          },
          "metadata": {},
          "execution_count": 891
        }
      ]
    },
    {
      "cell_type": "code",
      "source": [
        "#view the Drive wheels field to see if any data cleanup is needed\n",
        "df['Drive wheels'].value_counts(dropna=False).sort_index()"
      ],
      "metadata": {
        "colab": {
          "base_uri": "https://localhost:8080/"
        },
        "id": "QRlZ8HmdiryX",
        "outputId": "07f145ab-e8d4-45b1-9590-587a25fa59b9"
      },
      "execution_count": 892,
      "outputs": [
        {
          "output_type": "execute_result",
          "data": {
            "text/plain": [
              "4x4       2757\n",
              "Front    10968\n",
              "Rear      1968\n",
              "Name: Drive wheels, dtype: int64"
            ]
          },
          "metadata": {},
          "execution_count": 892
        }
      ]
    },
    {
      "cell_type": "code",
      "source": [
        "#view the Doors field to see if any data cleanup is needed\n",
        "df['Doors'].value_counts(dropna=False).sort_index()"
      ],
      "metadata": {
        "colab": {
          "base_uri": "https://localhost:8080/"
        },
        "id": "j5DC_o6Oi0cw",
        "outputId": "10b8af86-9be3-4256-c20b-2158f46a9209"
      },
      "execution_count": 893,
      "outputs": [
        {
          "output_type": "execute_result",
          "data": {
            "text/plain": [
              "02-Mar      746\n",
              "04-May    14823\n",
              ">5          124\n",
              "Name: Doors, dtype: int64"
            ]
          },
          "metadata": {},
          "execution_count": 893
        }
      ]
    },
    {
      "cell_type": "code",
      "source": [
        "#view the Wheel field to see if any data cleanup is needed\n",
        "df['Wheel'].value_counts(dropna=False).sort_index()"
      ],
      "metadata": {
        "colab": {
          "base_uri": "https://localhost:8080/"
        },
        "id": "WHPXdPhhjGRq",
        "outputId": "8a64a04f-3f9e-4dfe-ec3b-122a76873606"
      },
      "execution_count": 894,
      "outputs": [
        {
          "output_type": "execute_result",
          "data": {
            "text/plain": [
              "Left wheel          14271\n",
              "Right-hand drive     1422\n",
              "Name: Wheel, dtype: int64"
            ]
          },
          "metadata": {},
          "execution_count": 894
        }
      ]
    },
    {
      "cell_type": "code",
      "source": [
        "#view the Color field to see if any data cleanup is needed\n",
        "df['Color'].value_counts(dropna=False).sort_index()"
      ],
      "metadata": {
        "colab": {
          "base_uri": "https://localhost:8080/"
        },
        "id": "n_IVLIivjN6y",
        "outputId": "f5cff1a8-d256-4e87-c5e8-950af75040f5"
      },
      "execution_count": 895,
      "outputs": [
        {
          "output_type": "execute_result",
          "data": {
            "text/plain": [
              "Beige             134\n",
              "Black            3824\n",
              "Blue             1247\n",
              "Brown             172\n",
              "Carnelian red     177\n",
              "Golden            142\n",
              "Green             287\n",
              "Grey             1916\n",
              "Orange            204\n",
              "Pink               25\n",
              "Purple             38\n",
              "Red               567\n",
              "Silver           3139\n",
              "Sky blue          122\n",
              "White            3605\n",
              "Yellow             94\n",
              "Name: Color, dtype: int64"
            ]
          },
          "metadata": {},
          "execution_count": 895
        }
      ]
    },
    {
      "cell_type": "markdown",
      "source": [
        "###produce univariate visuals for the target and key features"
      ],
      "metadata": {
        "id": "h8yJTqsoydxd"
      }
    },
    {
      "cell_type": "code",
      "source": [
        "df_2 = df.sample(7000).copy()"
      ],
      "metadata": {
        "id": "9rpz4G5kjw9z"
      },
      "execution_count": 896,
      "outputs": []
    },
    {
      "cell_type": "code",
      "source": [
        "from pandas.io.formats import style\n",
        "plt.figure(figsize=(25, 10))\n",
        "sns.stripplot(x=df_2['Manufacturer'],y=df_2['Price'], edgecolor=\"black\",alpha=.5, s=10,linewidth=1.0)\n",
        "plt.xticks(rotation=-90)\n",
        "plt.title('Car Prices by Manufacturer', fontsize=30, fontweight='bold')\n",
        "plt.xlabel('Manufacturer', fontsize=18, fontweight='bold')\n",
        "plt.ylabel('Price', fontsize=18, fontweight='bold')\n",
        "plt.show();"
      ],
      "metadata": {
        "colab": {
          "base_uri": "https://localhost:8080/",
          "height": 718
        },
        "id": "UchdrwGCiOA6",
        "outputId": "41a867f7-ca60-4711-f6ed-0c3b9b7cec12"
      },
      "execution_count": 897,
      "outputs": [
        {
          "output_type": "display_data",
          "data": {
            "text/plain": [
              "<Figure size 1800x720 with 1 Axes>"
            ],
            "image/png": "[encoded data removed]"
          },
          "metadata": {
            "needs_background": "light"
          }
        }
      ]
    },
    {
      "cell_type": "code",
      "source": [
        "#identify the outlier value\n",
        "df['Price'].max()"
      ],
      "metadata": {
        "colab": {
          "base_uri": "https://localhost:8080/"
        },
        "id": "L4G7vKfb1c-c",
        "outputId": "6316dcc4-1f9c-42c1-de64-4d051cae2714"
      },
      "execution_count": 898,
      "outputs": [
        {
          "output_type": "execute_result",
          "data": {
            "text/plain": [
              "26307500"
            ]
          },
          "metadata": {},
          "execution_count": 898
        }
      ]
    },
    {
      "cell_type": "code",
      "source": [
        "#remove cars prices over 100,000 from Price feature\n",
        "df = df[df.Price < 100000]\n",
        "\n",
        "#create hsitogram to undstand distribution of Age field\n",
        "df['Price'].hist(bins = 10)\n",
        "plt.xticks(rotation = 45)\n",
        "plt.ticklabel_format(useOffset=False, style='plain')"
      ],
      "metadata": {
        "colab": {
          "base_uri": "https://localhost:8080/",
          "height": 289
        },
        "id": "30c5jGuq0lPA",
        "outputId": "83812dee-a997-41f4-dba5-c648175f3903"
      },
      "execution_count": 899,
      "outputs": [
        {
          "output_type": "display_data",
          "data": {
            "text/plain": [
              "<Figure size 432x288 with 1 Axes>"
            ],
            "image/png": "[encoded data removed]"
          },
          "metadata": {
            "needs_background": "light"
          }
        }
      ]
    },
    {
      "cell_type": "code",
      "source": [
        "#create a box plot for the Wheel feature and both unique values\n",
        "Left_Wheel = df.loc[df['Wheel']=='Left wheel','Price']\n",
        "Right_Hand_Drive = df.loc[df['Wheel']=='Right-hand drive','Price']\n",
        "fig, axes = plt.subplots(nrows = 1, ncols = 1, figsize = (8,5))\n",
        "boxplots = axes.boxplot([Left_Wheel,Right_Hand_Drive],\n",
        "           notch = True,\n",
        "           labels=['Left wheel', 'Right-hand drive'],\n",
        "           widths = .7,\n",
        "           patch_artist=True,\n",
        "           medianprops = dict(linestyle='-', linewidth=2, color='Yellow'),\n",
        "           boxprops = dict(linestyle='--', linewidth=2, color='Black', facecolor = 'blue', alpha = .4)\n",
        "          );\n",
        "\n",
        "boxplot1 = boxplots['boxes'][0]\n",
        "boxplot1.set_facecolor('red')\n",
        "plt.title('Car Prices by Wheel', fontsize=30, fontweight='bold')\n",
        "plt.xlabel('Wheel', fontsize = 18, fontweight='bold');\n",
        "plt.ylabel('Price', fontsize = 20, fontweight='bold');\n",
        "plt.xticks(fontsize = 12);\n",
        "plt.yticks(fontsize = 12);\n",
        "plt.show();"
      ],
      "metadata": {
        "colab": {
          "base_uri": "https://localhost:8080/",
          "height": 429
        },
        "id": "cdJwzZXY4YFK",
        "outputId": "f1eeeeb2-c3fa-4263-c77b-0d4dfe54c3a2"
      },
      "execution_count": 900,
      "outputs": [
        {
          "output_type": "stream",
          "name": "stderr",
          "text": [
            "/usr/local/lib/python3.7/dist-packages/matplotlib/cbook/__init__.py:1376: VisibleDeprecationWarning: Creating an ndarray from ragged nested sequences (which is a list-or-tuple of lists-or-tuples-or ndarrays with different lengths or shapes) is deprecated. If you meant to do this, you must specify 'dtype=object' when creating the ndarray.\n",
            "  X = np.atleast_1d(X.T if isinstance(X, np.ndarray) else np.asarray(X))\n"
          ]
        },
        {
          "output_type": "display_data",
          "data": {
            "text/plain": [
              "<Figure size 576x360 with 1 Axes>"
            ],
            "image/png": "[encoded data removed]"
          },
          "metadata": {
            "needs_background": "light"
          }
        }
      ]
    },
    {
      "cell_type": "markdown",
      "source": [
        "###identified outliers\n",
        "\n",
        "*   Price: anything over 39,000\n",
        "\n"
      ],
      "metadata": {
        "id": "spVkIO0c9O21"
      }
    },
    {
      "cell_type": "code",
      "source": [
        "#remove cars prices over 100,000 from Price feature\n",
        "df = df[df.Price != 26307500]\n",
        "\n",
        "df.boxplot(column = 'Price');\n",
        "plt.title('');\n",
        "plt.suptitle('');"
      ],
      "metadata": {
        "colab": {
          "base_uri": "https://localhost:8080/",
          "height": 265
        },
        "id": "bVoZlQ0Z91jF",
        "outputId": "b43eb781-6ab1-4ede-a65e-3cb92472e132"
      },
      "execution_count": 901,
      "outputs": [
        {
          "output_type": "display_data",
          "data": {
            "text/plain": [
              "<Figure size 432x288 with 1 Axes>"
            ],
            "image/png": "[encoded data removed]"
          },
          "metadata": {
            "needs_background": "light"
          }
        }
      ]
    },
    {
      "cell_type": "code",
      "source": [
        "#remove cars prices over 100,000 from Price feature\n",
        "df = df[df.Price < 50000]\n",
        "\n",
        "df.boxplot(column = 'Price');\n",
        "plt.title('');\n",
        "plt.suptitle('');"
      ],
      "metadata": {
        "colab": {
          "base_uri": "https://localhost:8080/",
          "height": 265
        },
        "id": "Z__HzY8B-QyG",
        "outputId": "8f3656af-c4ba-4a50-ca22-6e29b2fb5e56"
      },
      "execution_count": 902,
      "outputs": [
        {
          "output_type": "display_data",
          "data": {
            "text/plain": [
              "<Figure size 432x288 with 1 Axes>"
            ],
            "image/png": "[encoded data removed]"
          },
          "metadata": {
            "needs_background": "light"
          }
        }
      ]
    },
    {
      "cell_type": "code",
      "source": [
        "#remove cars prices over 100,000 from Price feature\n",
        "df = df[df.Price < 42000]\n",
        "\n",
        "df.boxplot(column = 'Price');\n",
        "plt.title('');\n",
        "plt.suptitle('');"
      ],
      "metadata": {
        "colab": {
          "base_uri": "https://localhost:8080/",
          "height": 265
        },
        "id": "G3_Jy3fS_9hM",
        "outputId": "f3d90f65-a9f5-4588-fb00-f0e020cdd9fb"
      },
      "execution_count": 903,
      "outputs": [
        {
          "output_type": "display_data",
          "data": {
            "text/plain": [
              "<Figure size 432x288 with 1 Axes>"
            ],
            "image/png": "[encoded data removed]"
          },
          "metadata": {
            "needs_background": "light"
          }
        }
      ]
    },
    {
      "cell_type": "code",
      "source": [
        "#remove cars prices over 100,000 from Price feature\n",
        "df = df[df.Price < 39000]\n",
        "\n",
        "df.boxplot(column = 'Price');\n",
        "plt.title('');\n",
        "plt.suptitle('');"
      ],
      "metadata": {
        "colab": {
          "base_uri": "https://localhost:8080/",
          "height": 265
        },
        "id": "6-Ip1yQMABZp",
        "outputId": "3ef365bc-a539-4a44-8812-f7321476400d"
      },
      "execution_count": 904,
      "outputs": [
        {
          "output_type": "display_data",
          "data": {
            "text/plain": [
              "<Figure size 432x288 with 1 Axes>"
            ],
            "image/png": "[encoded data removed]"
          },
          "metadata": {
            "needs_background": "light"
          }
        }
      ]
    }
  ]
}